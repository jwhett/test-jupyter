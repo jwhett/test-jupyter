{
 "cells": [
  {
   "cell_type": "markdown",
   "metadata": {},
   "source": [
    "# Spheres\n",
    "\n",
    "We'll try to do all this with [`pandas`](https://pandas.pydata.org/docs/index.html) and using a CSV on disk named `spheres.csv` that looks like this:"
   ]
  },
  {
   "cell_type": "markdown",
   "metadata": {},
   "source": [
    "```\n",
    "pid,type,radius,more\n",
    "123,m,1,more\n",
    "124,b,2,more\n",
    "125,m,3,more\n",
    "126,b,4,more\n",
    "127,m,5,more\n",
    "128,m,,more\n",
    "```"
   ]
  },
  {
   "cell_type": "markdown",
   "metadata": {},
   "source": [
    "## Imports\n",
    "\n",
    "It is [convention](https://pandas.pydata.org/docs/getting_started/intro_tutorials/01_table_oriented.html#what-kind-of-data-does-pandas-handle) to import `pandas` as `pd`. We'll also need the constant Pi from the `math` module."
   ]
  },
  {
   "cell_type": "code",
   "execution_count": 1,
   "metadata": {},
   "outputs": [],
   "source": [
    "import pandas as pd\n",
    "from math import pi"
   ]
  },
  {
   "cell_type": "markdown",
   "metadata": {},
   "source": [
    "## Helper Functions\n",
    "\n",
    "Let's write functions to calculate the raidus, surface area, and volume of each sphere."
   ]
  },
  {
   "cell_type": "code",
   "execution_count": 2,
   "metadata": {},
   "outputs": [],
   "source": [
    "def diameter(rad):\n",
    "    return rad*2"
   ]
  },
  {
   "cell_type": "code",
   "execution_count": 3,
   "metadata": {},
   "outputs": [],
   "source": [
    "def surface(rad):\n",
    "    return 4*pi*pow(rad,2)"
   ]
  },
  {
   "cell_type": "code",
   "execution_count": 4,
   "metadata": {},
   "outputs": [],
   "source": [
    "def volume(rad):\n",
    "    return (4/3)*(pi*pow(rad,3))"
   ]
  },
  {
   "cell_type": "markdown",
   "metadata": {},
   "source": [
    "## Read CSV\n",
    "\n",
    "Read data from file:"
   ]
  },
  {
   "cell_type": "code",
   "execution_count": 5,
   "metadata": {},
   "outputs": [],
   "source": [
    "raw_spheres = pd.read_csv('spheres.csv')"
   ]
  },
  {
   "cell_type": "markdown",
   "metadata": {},
   "source": [
    "Let's see what that [`dataframe`](https://pandas.pydata.org/docs/reference/api/pandas.DataFrame.html?highlight=dataframe#pandas-dataframe) looks like:"
   ]
  },
  {
   "cell_type": "code",
   "execution_count": 6,
   "metadata": {},
   "outputs": [
    {
     "name": "stdout",
     "output_type": "stream",
     "text": [
      "   pid mb  rad  more\n",
      "0  123  m  1.0  more\n",
      "1  124  b  2.0  more\n",
      "2  125  m  3.0  more\n",
      "3  126  b  4.0  more\n",
      "4  127  m  5.0  more\n",
      "5  128  m  NaN  more\n"
     ]
    }
   ],
   "source": [
    "print(raw_spheres)"
   ]
  },
  {
   "cell_type": "markdown",
   "metadata": {},
   "source": [
    "That first column is the index column and not actually in the CSV itself."
   ]
  },
  {
   "cell_type": "markdown",
   "metadata": {},
   "source": [
    "## Filtering Columns\n",
    "\n",
    "The source CSV may have other data that you don't care about. I only care about the first three columns."
   ]
  },
  {
   "cell_type": "code",
   "execution_count": 7,
   "metadata": {},
   "outputs": [
    {
     "name": "stdout",
     "output_type": "stream",
     "text": [
      "   pid mb  rad\n",
      "0  123  m  1.0\n",
      "1  124  b  2.0\n",
      "2  125  m  3.0\n",
      "3  126  b  4.0\n",
      "4  127  m  5.0\n",
      "5  128  m  NaN\n"
     ]
    }
   ],
   "source": [
    "spheres = raw_spheres.iloc[:, :3]\n",
    "print(spheres)"
   ]
  },
  {
   "cell_type": "markdown",
   "metadata": {},
   "source": [
    "## Changing Headers\n",
    "\n",
    "Those headers could use some help... Let's rename them."
   ]
  },
  {
   "cell_type": "code",
   "execution_count": 8,
   "metadata": {},
   "outputs": [
    {
     "name": "stdout",
     "output_type": "stream",
     "text": [
      "    id type  radius\n",
      "0  123    m     1.0\n",
      "1  124    b     2.0\n",
      "2  125    m     3.0\n",
      "3  126    b     4.0\n",
      "4  127    m     5.0\n",
      "5  128    m     NaN\n"
     ]
    }
   ],
   "source": [
    "new_headers = [\"id\", \"type\", \"radius\"]\n",
    "spheres.columns = new_headers\n",
    "print(spheres)"
   ]
  },
  {
   "cell_type": "markdown",
   "metadata": {},
   "source": [
    "## Missing Data\n",
    "\n",
    "In our case, I want to drop any rows missing the `radius` data as not to have it skew our calculation later. `dataframe.dropna()` will handle that for us and update our dataframe in-place."
   ]
  },
  {
   "cell_type": "code",
   "execution_count": 9,
   "metadata": {},
   "outputs": [
    {
     "name": "stdout",
     "output_type": "stream",
     "text": [
      "    id type  radius\n",
      "0  123    m     1.0\n",
      "1  124    b     2.0\n",
      "2  125    m     3.0\n",
      "3  126    b     4.0\n",
      "4  127    m     5.0\n"
     ]
    }
   ],
   "source": [
    "spheres.dropna(subset=[\"radius\"], inplace=True)\n",
    "print(spheres)"
   ]
  },
  {
   "cell_type": "markdown",
   "metadata": {},
   "source": [
    "## Sorting\n",
    "\n",
    "Say we want to sort our dataframe by type. `dataframe.sort_values()` is a lexical sort by default and makes this trivial."
   ]
  },
  {
   "cell_type": "code",
   "execution_count": 10,
   "metadata": {},
   "outputs": [
    {
     "name": "stdout",
     "output_type": "stream",
     "text": [
      "    id type  radius\n",
      "1  124    b     2.0\n",
      "3  126    b     4.0\n",
      "0  123    m     1.0\n",
      "2  125    m     3.0\n",
      "4  127    m     5.0\n"
     ]
    }
   ],
   "source": [
    "spheres.sort_values(by=[\"type\"], inplace=True)\n",
    "print(spheres)"
   ]
  },
  {
   "cell_type": "markdown",
   "metadata": {},
   "source": [
    "> Note that each row kept its index."
   ]
  },
  {
   "cell_type": "markdown",
   "metadata": {},
   "source": [
    "## New Data Series\n",
    "\n",
    "Let's add a calculated [series](https://pandas.pydata.org/docs/getting_started/intro_tutorials/01_table_oriented.html#each-column-in-a-dataframe-is-a-series) (column) for diameter, surface area, and volume. This is done by specifying the name of the series on the left assignment (`spheres[\"diameter\"]`) and how to calculate the result on the right assignment (`diameter(spheres[\"radius\"])`)."
   ]
  },
  {
   "cell_type": "markdown",
   "metadata": {},
   "source": [
    "### Diameter"
   ]
  },
  {
   "cell_type": "code",
   "execution_count": 11,
   "metadata": {},
   "outputs": [
    {
     "name": "stdout",
     "output_type": "stream",
     "text": [
      "    id  diameter\n",
      "1  124       4.0\n",
      "3  126       8.0\n",
      "0  123       2.0\n",
      "2  125       6.0\n",
      "4  127      10.0\n"
     ]
    }
   ],
   "source": [
    "spheres[\"diameter\"] = diameter(spheres[\"radius\"])\n",
    "print(spheres[[\"id\",\"diameter\"]])"
   ]
  },
  {
   "cell_type": "markdown",
   "metadata": {},
   "source": [
    "### Surface Area"
   ]
  },
  {
   "cell_type": "code",
   "execution_count": 12,
   "metadata": {},
   "outputs": [
    {
     "name": "stdout",
     "output_type": "stream",
     "text": [
      "    id  surface area\n",
      "1  124     50.265482\n",
      "3  126    201.061930\n",
      "0  123     12.566371\n",
      "2  125    113.097336\n",
      "4  127    314.159265\n"
     ]
    }
   ],
   "source": [
    "spheres[\"surface area\"] = surface(spheres[\"radius\"])\n",
    "print(spheres[[\"id\",\"surface area\"]])"
   ]
  },
  {
   "cell_type": "markdown",
   "metadata": {},
   "source": [
    "### Volume"
   ]
  },
  {
   "cell_type": "code",
   "execution_count": 13,
   "metadata": {},
   "outputs": [
    {
     "name": "stdout",
     "output_type": "stream",
     "text": [
      "    id      volume\n",
      "1  124   33.510322\n",
      "3  126  268.082573\n",
      "0  123    4.188790\n",
      "2  125  113.097336\n",
      "4  127  523.598776\n"
     ]
    }
   ],
   "source": [
    "spheres[\"volume\"] = volume(spheres[\"radius\"])\n",
    "print(spheres[[\"id\",\"volume\"]])"
   ]
  },
  {
   "cell_type": "markdown",
   "metadata": {},
   "source": [
    "### Checkpoint\n",
    "\n",
    "This is what the fully calculated dataframe looks like so far:"
   ]
  },
  {
   "cell_type": "code",
   "execution_count": 14,
   "metadata": {},
   "outputs": [
    {
     "name": "stdout",
     "output_type": "stream",
     "text": [
      "    id type  radius  diameter  surface area      volume\n",
      "1  124    b     2.0       4.0     50.265482   33.510322\n",
      "3  126    b     4.0       8.0    201.061930  268.082573\n",
      "0  123    m     1.0       2.0     12.566371    4.188790\n",
      "2  125    m     3.0       6.0    113.097336  113.097336\n",
      "4  127    m     5.0      10.0    314.159265  523.598776\n"
     ]
    }
   ],
   "source": [
    "print(spheres)"
   ]
  },
  {
   "cell_type": "markdown",
   "metadata": {},
   "source": [
    "## Averages\n",
    "\n",
    "We can now calculate the average diameter, surface area, and volume for all M and B. Select a list of columns, how to group that selection, and what calculation to apply to the result."
   ]
  },
  {
   "cell_type": "markdown",
   "metadata": {},
   "source": [
    "> Note: You **must** select what you're grouping by. In other words, if we do not _select_ `type` in the list below, then we will not be able to _groupby()_ it."
   ]
  },
  {
   "cell_type": "code",
   "execution_count": 15,
   "metadata": {},
   "outputs": [
    {
     "name": "stdout",
     "output_type": "stream",
     "text": [
      "      diameter  surface area      volume\n",
      "type                                    \n",
      "b          6.0    125.663706  150.796447\n",
      "m          6.0    146.607657  213.628300\n"
     ]
    }
   ],
   "source": [
    "averages = (\n",
    "    spheres[[\"type\",\"diameter\",\"surface area\",\"volume\"]]\n",
    "    .groupby([\"type\"])\n",
    "    .mean()\n",
    ")\n",
    "print(averages)"
   ]
  },
  {
   "cell_type": "markdown",
   "metadata": {},
   "source": [
    "## Counting\n",
    "\n",
    "We need to know the total of each `type` of sphere. You could pick any of the fields here to count."
   ]
  },
  {
   "cell_type": "code",
   "execution_count": 16,
   "metadata": {},
   "outputs": [
    {
     "name": "stdout",
     "output_type": "stream",
     "text": [
      "type\n",
      "b    2\n",
      "m    3\n",
      "Name: diameter, dtype: int64\n"
     ]
    }
   ],
   "source": [
    "counts = spheres.groupby(by=[\"type\"])[\"diameter\"].count()\n",
    "print(counts)"
   ]
  },
  {
   "cell_type": "markdown",
   "metadata": {},
   "source": [
    "## Joining Data\n",
    "\n",
    "Say we would like the averages per type along with the total count of each type. `pd.merge()` has us covered."
   ]
  },
  {
   "cell_type": "code",
   "execution_count": 17,
   "metadata": {},
   "outputs": [
    {
     "name": "stdout",
     "output_type": "stream",
     "text": [
      "      diameter_x  diameter_y  surface area      volume\n",
      "type                                                  \n",
      "b              2         6.0    125.663706  150.796447\n",
      "m              3         6.0    146.607657  213.628300\n"
     ]
    }
   ],
   "source": [
    "merged = pd.merge(counts, averages, on=[\"type\"])\n",
    "print(merged)"
   ]
  },
  {
   "cell_type": "markdown",
   "metadata": {},
   "source": [
    "### Correct those headers\n",
    "\n",
    "We had a `daimeter` field in both sets of data. This is likely to happen on large sets of data and sometimes you need to change these columns in place. Also, everyting after `count` is an average."
   ]
  },
  {
   "cell_type": "code",
   "execution_count": 18,
   "metadata": {},
   "outputs": [
    {
     "name": "stdout",
     "output_type": "stream",
     "text": [
      "      count  avg diameter  avg surface area  avg volume\n",
      "type                                                   \n",
      "b         2           6.0        125.663706  150.796447\n",
      "m         3           6.0        146.607657  213.628300\n"
     ]
    }
   ],
   "source": [
    "merged.columns = [\"count\", \"avg diameter\", \"avg surface area\", \"avg volume\"]\n",
    "print(merged)"
   ]
  },
  {
   "cell_type": "markdown",
   "metadata": {},
   "source": [
    "## File Output\n",
    "\n",
    "Let's save our calculated data to new files. The index is included by default, but we don't care about that so we'll set `index=False` to disable that behavior."
   ]
  },
  {
   "cell_type": "code",
   "execution_count": 19,
   "metadata": {},
   "outputs": [],
   "source": [
    "spheres.to_csv('calculated_spheres.csv', index=False)\n",
    "merged.to_csv('averages_spheres.csv')"
   ]
  }
 ],
 "metadata": {
  "kernelspec": {
   "display_name": "Python 3",
   "language": "python",
   "name": "python3"
  },
  "language_info": {
   "codemirror_mode": {
    "name": "ipython",
    "version": 3
   },
   "file_extension": ".py",
   "mimetype": "text/x-python",
   "name": "python",
   "nbconvert_exporter": "python",
   "pygments_lexer": "ipython3",
   "version": "3.8.6"
  }
 },
 "nbformat": 4,
 "nbformat_minor": 4
}

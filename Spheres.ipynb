{
 "cells": [
  {
   "cell_type": "markdown",
   "metadata": {},
   "source": [
    "# CSV Manipulation\n",
    "\n",
    "Let's read, calculate, then modify a CSV in-place."
   ]
  },
  {
   "cell_type": "markdown",
   "metadata": {},
   "source": [
    "## CSV\n",
    "\n",
    "First, we'll need a CSV file to work with. We will be working with a list of spheres. Most importantly, the radius is the third column:"
   ]
  },
  {
   "cell_type": "code",
   "execution_count": 1,
   "metadata": {},
   "outputs": [],
   "source": [
    "input_csv = ['first,second,radius',\n",
    "            'this,is,1',\n",
    "            'this,is,2',\n",
    "            'this,is,3']"
   ]
  },
  {
   "cell_type": "markdown",
   "metadata": {},
   "source": [
    "We create this as a list of lines as we read from a CSV file. If you were doing this with a file on disk, you'd read the file in like so:\n",
    "\n",
    "```python\n",
    "with open('spheres.csv', 'r+') as input_csv:\n",
    "    # Calculation code here.\n",
    "    # Output back to the same file we read:\n",
    "    csv.writer(input_csv, delimiter=',').writerows(output_csv)\n",
    "```"
   ]
  },
  {
   "cell_type": "markdown",
   "metadata": {},
   "source": [
    "## Imports\n",
    "\n",
    "Now, let's get Python ready. `csv` provides helpers for working with CSV data and `math` will provide the constant `pi` and a function for power/exponent `pow()`."
   ]
  },
  {
   "cell_type": "code",
   "execution_count": 2,
   "metadata": {},
   "outputs": [],
   "source": [
    "import csv\n",
    "from math import pow,pi"
   ]
  },
  {
   "cell_type": "markdown",
   "metadata": {},
   "source": [
    "## Functions\n",
    "\n",
    "There are a few functions that we'll want to make to help with our calculations."
   ]
  },
  {
   "cell_type": "code",
   "execution_count": 3,
   "metadata": {},
   "outputs": [],
   "source": [
    "def diameter(rad):\n",
    "    return rad*2\n",
    "\n",
    "\n",
    "def surface(rad):\n",
    "    return 4*pi*pow(rad,2)\n",
    "\n",
    "\n",
    "def volume(rad):\n",
    "    return (4/3)*(pi*pow(rad,3))\n"
   ]
  },
  {
   "cell_type": "markdown",
   "metadata": {},
   "source": [
    "## Read and Manipulate\n",
    "\n",
    "We use the `csv.reader` to _read_ the contents of our in-memory CSV file."
   ]
  },
  {
   "cell_type": "code",
   "execution_count": 4,
   "metadata": {},
   "outputs": [],
   "source": [
    "csv_reader = csv.reader(input_csv, delimiter=',')"
   ]
  },
  {
   "cell_type": "markdown",
   "metadata": {},
   "source": [
    "We need to understand if we're reading a header or actual data. Setting `header` to `True` will be an easy piece of _state_ that we can manage ourselves. Since the header is the first line, we'll just set `header` to `False` after the first iteration through the loop."
   ]
  },
  {
   "cell_type": "code",
   "execution_count": 5,
   "metadata": {},
   "outputs": [],
   "source": [
    "header = True"
   ]
  },
  {
   "cell_type": "markdown",
   "metadata": {},
   "source": [
    "Empty list of rows that we'll store use to store the data from the CSV _file_ and our calculations. Each item in the list representing a line in a CSV file."
   ]
  },
  {
   "cell_type": "code",
   "execution_count": 6,
   "metadata": {},
   "outputs": [],
   "source": [
    "output_csv = []"
   ]
  },
  {
   "cell_type": "markdown",
   "metadata": {},
   "source": [
    "Let's _loop_ through each line in our current CSV data, decide if we're at the header line or actual data, calculate, and append our new data to each line."
   ]
  },
  {
   "cell_type": "code",
   "execution_count": 7,
   "metadata": {},
   "outputs": [],
   "source": [
    "for row in csv_reader:\n",
    "    # Are we at the header row?\n",
    "    if header:\n",
    "        # We are! Add new headers.\n",
    "        output_csv.append(row + [\"diameter\",\"surface\",\"volume\"])\n",
    "        # Set header to False now that\n",
    "        # the rest of the file is data.\n",
    "        header = False\n",
    "        # Skip the rest of the loop execution for\n",
    "        # this iteration. Go to the next line of the file.\n",
    "        continue\n",
    "    # Find and assign the radius.\n",
    "    radius = float(row[2])\n",
    "    # Append our calculations to the end of each row.\n",
    "    output_csv.append(row + [diameter(radius),surface(radius),volume(radius)])"
   ]
  },
  {
   "cell_type": "markdown",
   "metadata": {},
   "source": [
    "Finally, let's see the output we end up with."
   ]
  },
  {
   "cell_type": "code",
   "execution_count": 8,
   "metadata": {},
   "outputs": [],
   "source": [
    "for row in output_csv:\n",
    "    print(row)"
   ]
  },
  {
   "cell_type": "markdown",
   "metadata": {},
   "source": [
    "Plenty of room for refactoring (e.g. list comprehensions, `pow()` is not _strictly_ needed), but this is a general demonstration."
   ]
  }
 ],
 "metadata": {
  "kernelspec": {
   "display_name": "Python 3",
   "language": "python",
   "name": "python3"
  },
  "language_info": {
   "codemirror_mode": {
    "name": "ipython",
    "version": 3
   },
   "file_extension": ".py",
   "mimetype": "text/x-python",
   "name": "python",
   "nbconvert_exporter": "python",
   "pygments_lexer": "ipython3",
   "version": "3.7.3"
  }
 },
 "nbformat": 4,
 "nbformat_minor": 2
}

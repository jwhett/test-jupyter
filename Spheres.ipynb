{
 "cells": [
  {
   "cell_type": "markdown",
   "metadata": {},
   "source": [
    "# CSV Manipulation\n",
    "\n",
    "Let's read, calculate, and modify a CSV in-place."
   ]
  },
  {
   "cell_type": "markdown",
   "metadata": {},
   "source": [
    "## CSV\n",
    "\n",
    "First, we'll need a CSV file to work with. How about a list of spheres? Most importantly, note the radius in the third column:"
   ]
  },
  {
   "cell_type": "code",
   "execution_count": 1,
   "metadata": {},
   "outputs": [],
   "source": [
    "input_csv = ['first,second,radius',\n",
    "            'this,is,1',\n",
    "            'this,is,2',\n",
    "            'this,is,3']"
   ]
  },
  {
   "cell_type": "markdown",
   "metadata": {},
   "source": [
    "This as a list of lines as you would read from a CSV file. We are treating this like a real CSV file. However, if you were instead doing this with a file on disk, you'd read the file in like so:\n",
    "\n",
    "```python\n",
    "# functions\n",
    "\n",
    "with open('spheres.csv', 'r+') as input_csv:\n",
    "    # Calculation code here.\n",
    "    \n",
    "    # Output back to the same file we read\n",
    "    # instead of printing the output.\n",
    "    csv.writer(input_csv, delimiter=',').writerows(output_csv)\n",
    "```"
   ]
  },
  {
   "cell_type": "code",
   "execution_count": 2,
   "metadata": {},
   "outputs": [],
   "source": [
    "pi = 3.14"
   ]
  },
  {
   "cell_type": "markdown",
   "metadata": {},
   "source": [
    "## Functions\n",
    "\n",
    "There are a few functions that we'll want to help with our calculations. Though they are not particularly long functions, they will help to make the rest of the code easier to read."
   ]
  },
  {
   "cell_type": "markdown",
   "metadata": {},
   "source": [
    "One for calculating diameter,"
   ]
  },
  {
   "cell_type": "code",
   "execution_count": 3,
   "metadata": {},
   "outputs": [],
   "source": [
    "def diameter(rad):\n",
    "    return rad*2"
   ]
  },
  {
   "cell_type": "markdown",
   "metadata": {},
   "source": [
    "one for surface area,"
   ]
  },
  {
   "cell_type": "code",
   "execution_count": 4,
   "metadata": {},
   "outputs": [],
   "source": [
    "def surface(rad):\n",
    "    return 4*pi*(rad**2)"
   ]
  },
  {
   "cell_type": "markdown",
   "metadata": {},
   "source": [
    "and one for volume."
   ]
  },
  {
   "cell_type": "code",
   "execution_count": 5,
   "metadata": {},
   "outputs": [],
   "source": [
    "def volume(rad):\n",
    "    return (4/3)*(pi*(rad**3))"
   ]
  },
  {
   "cell_type": "code",
   "execution_count": null,
   "metadata": {},
   "outputs": [],
   "source": [
    "def row_handler(r):\n",
    "    try:"
   ]
  },
  {
   "cell_type": "markdown",
   "metadata": {},
   "source": [
    "We need to detect whether we're reading a header or a line of data. All of our calculations will error out if he handed them column titles instead of numbers.\n",
    "\n",
    "> You might also do this using a `try`/`catch` around `radius = float(row[2])` looking for `ValueError`. Some folks will count lines. It's really up to the author and the performance constraints.\n",
    "\n",
    "Setting `header` to `True` will be an easy piece of _state_ that we can manage ourselves. Since the header is the first line, we'll just set `header` to `False` after the first iteration through the loop."
   ]
  },
  {
   "cell_type": "code",
   "execution_count": 6,
   "metadata": {},
   "outputs": [],
   "source": [
    "header = True"
   ]
  },
  {
   "cell_type": "markdown",
   "metadata": {},
   "source": [
    "Create an empty list of rows to store the data from the CSV _file_ and our calculations. Each item in the list representing a line in a CSV file."
   ]
  },
  {
   "cell_type": "code",
   "execution_count": 7,
   "metadata": {},
   "outputs": [],
   "source": [
    "output_csv = []"
   ]
  },
  {
   "cell_type": "code",
   "execution_count": 8,
   "metadata": {},
   "outputs": [],
   "source": [
    "csv = [row.split(',') for row in input_csv]"
   ]
  },
  {
   "cell_type": "markdown",
   "metadata": {},
   "source": [
    "Let's _loop_ through each line in our current CSV data, decide if we're at the header line or actual data, calculate, and append our new data to each line."
   ]
  },
  {
   "cell_type": "code",
   "execution_count": 9,
   "metadata": {},
   "outputs": [],
   "source": [
    "for row in csv:\n",
    "    # Are we at the header row?\n",
    "    if header:\n",
    "        # We are! Add new headers.\n",
    "        output_csv.append(row + [\"diameter\",\"surface\",\"volume\"])\n",
    "        # Set header to False now that\n",
    "        # the rest of the file is data.\n",
    "        header = False\n",
    "        # Skip the rest of the loop execution for\n",
    "        # this iteration. Go to the next line of the file.\n",
    "        continue\n",
    "    # Find and assign the radius.\n",
    "    radius = float(row[2])\n",
    "    # Append our calculations to the end of each row.\n",
    "    output_csv.append(row + [diameter(radius),surface(radius),volume(radius)])"
   ]
  },
  {
   "cell_type": "markdown",
   "metadata": {},
   "source": [
    "Finally, let's see the output we end up with."
   ]
  },
  {
   "cell_type": "code",
   "execution_count": 10,
   "metadata": {},
   "outputs": [
    {
     "name": "stdout",
     "output_type": "stream",
     "text": [
      "['first', 'second', 'radius', 'diameter', 'surface', 'volume']\n",
      "['this', 'is', '1', 2.0, 12.56, 4.1866666666666665]\n",
      "['this', 'is', '2', 4.0, 50.24, 33.49333333333333]\n",
      "['this', 'is', '3', 6.0, 113.04, 113.03999999999999]\n"
     ]
    }
   ],
   "source": [
    "for row in output_csv:\n",
    "    print(row)"
   ]
  }
 ],
 "metadata": {
  "kernelspec": {
   "display_name": "Python 3",
   "language": "python",
   "name": "python3"
  },
  "language_info": {
   "codemirror_mode": {
    "name": "ipython",
    "version": 3
   },
   "file_extension": ".py",
   "mimetype": "text/x-python",
   "name": "python",
   "nbconvert_exporter": "python",
   "pygments_lexer": "ipython3",
   "version": "3.7.3"
  }
 },
 "nbformat": 4,
 "nbformat_minor": 2
}

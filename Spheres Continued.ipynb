{
 "cells": [
  {
   "cell_type": "markdown",
   "metadata": {},
   "source": [
    "# Spheres (cont.)\n",
    "\n",
    "Now we'll try to do all this with `pandas` and using a CSV on disk named `spheres.csv` that looks like this:"
   ]
  },
  {
   "cell_type": "markdown",
   "metadata": {},
   "source": [
    "```\n",
    "pid,type,radius\n",
    "123,m,1\n",
    "124,b,2\n",
    "125,m,3\n",
    "126,b,4\n",
    "127,m,5\n",
    "```"
   ]
  },
  {
   "cell_type": "markdown",
   "metadata": {},
   "source": [
    "## Imports\n",
    "\n",
    "It is convention to import `pandas` as `pd`. We'll also need the constant Pi from the `math` module."
   ]
  },
  {
   "cell_type": "code",
   "execution_count": 1,
   "metadata": {},
   "outputs": [],
   "source": [
    "import pandas as pd\n",
    "from math import pi"
   ]
  },
  {
   "cell_type": "markdown",
   "metadata": {},
   "source": [
    "## Helper Functions\n",
    "\n",
    "Let's write functions to calculate the raidus, surface area, and volume of each sphere."
   ]
  },
  {
   "cell_type": "code",
   "execution_count": 2,
   "metadata": {},
   "outputs": [],
   "source": [
    "def diameter(rad):\n",
    "    return rad*2"
   ]
  },
  {
   "cell_type": "code",
   "execution_count": 3,
   "metadata": {},
   "outputs": [],
   "source": [
    "def surface(rad):\n",
    "    return 4*pi*pow(rad,2)"
   ]
  },
  {
   "cell_type": "code",
   "execution_count": 4,
   "metadata": {},
   "outputs": [],
   "source": [
    "def volume(rad):\n",
    "    return (4/3)*(pi*pow(rad,3))"
   ]
  },
  {
   "cell_type": "markdown",
   "metadata": {},
   "source": [
    "## Read CSV\n",
    "\n",
    "Read data from file:"
   ]
  },
  {
   "cell_type": "code",
   "execution_count": 5,
   "metadata": {},
   "outputs": [],
   "source": [
    "spheres = pd.read_csv('spheres.csv')"
   ]
  },
  {
   "cell_type": "markdown",
   "metadata": {},
   "source": [
    "Let's see what that `dataframe` looks like:"
   ]
  },
  {
   "cell_type": "code",
   "execution_count": 6,
   "metadata": {},
   "outputs": [
    {
     "name": "stdout",
     "output_type": "stream",
     "text": [
      "   pid type  radius\n",
      "0  123    m       1\n",
      "1  124    b       2\n",
      "2  125    m       3\n",
      "3  126    b       4\n",
      "4  127    m       5\n"
     ]
    }
   ],
   "source": [
    "print(spheres)"
   ]
  },
  {
   "cell_type": "markdown",
   "metadata": {},
   "source": [
    "## New Data Series\n",
    "\n",
    "Let's add a calculated series (column) for diameter, surface area, and volume."
   ]
  },
  {
   "cell_type": "markdown",
   "metadata": {},
   "source": [
    "### Diameter"
   ]
  },
  {
   "cell_type": "code",
   "execution_count": 7,
   "metadata": {},
   "outputs": [
    {
     "name": "stdout",
     "output_type": "stream",
     "text": [
      "   pid  diameter\n",
      "0  123         2\n",
      "1  124         4\n",
      "2  125         6\n",
      "3  126         8\n",
      "4  127        10\n"
     ]
    }
   ],
   "source": [
    "spheres[\"diameter\"] = diameter(spheres[\"radius\"])\n",
    "print(spheres[[\"pid\",\"diameter\"]])"
   ]
  },
  {
   "cell_type": "markdown",
   "metadata": {},
   "source": [
    "### Surface Area"
   ]
  },
  {
   "cell_type": "code",
   "execution_count": 8,
   "metadata": {},
   "outputs": [
    {
     "name": "stdout",
     "output_type": "stream",
     "text": [
      "   pid  surface area\n",
      "0  123     12.566371\n",
      "1  124     50.265482\n",
      "2  125    113.097336\n",
      "3  126    201.061930\n",
      "4  127    314.159265\n"
     ]
    }
   ],
   "source": [
    "spheres[\"surface area\"] = surface(spheres[\"radius\"])\n",
    "print(spheres[[\"pid\",\"surface area\"]])"
   ]
  },
  {
   "cell_type": "markdown",
   "metadata": {},
   "source": [
    "### Volume"
   ]
  },
  {
   "cell_type": "code",
   "execution_count": 9,
   "metadata": {},
   "outputs": [
    {
     "name": "stdout",
     "output_type": "stream",
     "text": [
      "   pid      volume\n",
      "0  123    4.188790\n",
      "1  124   33.510322\n",
      "2  125  113.097336\n",
      "3  126  268.082573\n",
      "4  127  523.598776\n"
     ]
    }
   ],
   "source": [
    "spheres[\"volume\"] = volume(spheres[\"radius\"])\n",
    "print(spheres[[\"pid\",\"volume\"]])"
   ]
  },
  {
   "cell_type": "markdown",
   "metadata": {},
   "source": [
    "### Checkpoint\n",
    "\n",
    "This is what the fully calculated dataframe looks like so far:"
   ]
  },
  {
   "cell_type": "code",
   "execution_count": 10,
   "metadata": {},
   "outputs": [
    {
     "name": "stdout",
     "output_type": "stream",
     "text": [
      "   pid type  radius  diameter  surface area      volume\n",
      "0  123    m       1         2     12.566371    4.188790\n",
      "1  124    b       2         4     50.265482   33.510322\n",
      "2  125    m       3         6    113.097336  113.097336\n",
      "3  126    b       4         8    201.061930  268.082573\n",
      "4  127    m       5        10    314.159265  523.598776\n"
     ]
    }
   ],
   "source": [
    "print(spheres)"
   ]
  },
  {
   "cell_type": "markdown",
   "metadata": {},
   "source": [
    "## Averages\n",
    "\n",
    "We can now calculate the average diameter, surface area, and volume for all M and B."
   ]
  },
  {
   "cell_type": "code",
   "execution_count": 11,
   "metadata": {},
   "outputs": [
    {
     "name": "stdout",
     "output_type": "stream",
     "text": [
      "      diameter  surface area      volume\n",
      "type                                    \n",
      "b            6    125.663706  150.796447\n",
      "m            6    146.607657  213.628300\n"
     ]
    }
   ],
   "source": [
    "averages = spheres[[\"type\",\"diameter\",\"surface area\",\"volume\"]].groupby([\"type\"]).mean()\n",
    "print(averages)"
   ]
  },
  {
   "cell_type": "markdown",
   "metadata": {},
   "source": [
    "## File Output\n",
    "\n",
    "Let's save our calculated data to a new file:"
   ]
  },
  {
   "cell_type": "code",
   "execution_count": 12,
   "metadata": {},
   "outputs": [],
   "source": [
    "spheres.to_csv('calculated_spheres.csv')\n",
    "averages.to_csv('averages_spheres.csv')"
   ]
  }
 ],
 "metadata": {
  "kernelspec": {
   "display_name": "Python 3",
   "language": "python",
   "name": "python3"
  },
  "language_info": {
   "codemirror_mode": {
    "name": "ipython",
    "version": 3
   },
   "file_extension": ".py",
   "mimetype": "text/x-python",
   "name": "python",
   "nbconvert_exporter": "python",
   "pygments_lexer": "ipython3",
   "version": "3.8.6"
  }
 },
 "nbformat": 4,
 "nbformat_minor": 4
}
